{
  "nbformat": 4,
  "nbformat_minor": 0,
  "metadata": {
    "colab": {
      "provenance": []
    },
    "kernelspec": {
      "name": "python3",
      "display_name": "Python 3"
    },
    "language_info": {
      "name": "python"
    }
  },
  "cells": [
    {
      "cell_type": "markdown",
      "source": [
        "# Python Basics\n",
        "1. What is Python, and why is it popular?\u001a\n",
        "   -> python is a high- level,interpreted programming language that is popular due to simlicity, dlexibility and versatility. It has a vast number of libraries and framewords that make it suitable for variousapplication, such as web development, data science, widely used in big industies.\n",
        "2. What is an interpreter in Python?\u001a\n",
        "   -> In python, an interpreter is a progrsm that directly executes the source code, line by line, allows for rapid development and testing.\n",
        "3. What are pre-defined keywords in Python?\u001a\n",
        "   -> Pre-defined Keywords that hold a special meaning and have specific purpous in python programming and that can not be used as variables name.\n",
        "4. Can keywords be used as variable names\u001a\n",
        "   -> No, keywords can not be used as variable name in python as they are reserved for specific purposes.\n",
        "5. What is mutability in Python?\n",
        "   ->Objects whose value state or value can be change after they created are called as mutabile object.\n",
        "6. Why are lists mutable, but tuples are immutable?\u001a       \n",
        "   -> List are mutable because they are changing the elements and adding or removing objects.\n",
        "   tuples are immputable because they are intented to be static and unchanging.\n",
        "7. What is the difference between “==” and “is” operators in Python?\n",
        "  -> The \"==\" operator checks for equality value, while the \"is\" operator checks for equality and identity.\n",
        "8. What are logical operators in Python?\u001a\n",
        "   -> Logical opetators in Python are used to combine conditional statement and include:\n",
        "      a) and\n",
        "      b) or\n",
        "      c) not\n",
        "9. What is type casting in Python?\u001a      \n",
        "   -> The process of changing the data type of a value or object is called type casting.\n",
        "10. What is the difference between implicit and explicit type casting?\n",
        "  -> Implicit type casting in Python undestand the data type and convenrts a variable data type without eplicit instruction.\n",
        "     Explicit type casting in python convirting data type using inbuilt function(str, inf, float) and then change the variables.\n",
        "11. What is the purpose of conditional statements in Python?\u001a\n",
        "  -> The purpose of Conditional statements in Python are helps you to doing code decision based on same precondition and the preconditions are:\n",
        "    a) if\n",
        "    b) if-else\n",
        "    c) if-elif-else\n",
        "    d) nested-if-else\n",
        "12. How does the elif statement work?\n",
        "  -> The elif statement is used to check another condition if the initial condition in the if statement is false.\n",
        "13. What is the difference between for and while loops?\n",
        "   -> For loops are used to iterate over a sequance of elements such as\n",
        "   ( strings and List ).\n",
        "      While loops are repeatedly ececuted a block of code untill a condition is true and met.\n",
        "14. Describe a scenario where a while loop is more suitable than a for loop.\n",
        "  -> A while loop is more suitable when you need to repeat a task indefinitely or until a specific condition is met.\n",
        "  in these scenarios, a while loop provides more flexibilty and control over the iteration process.\n",
        "            \n"
      ],
      "metadata": {
        "id": "lL1EFgDDcchh"
      }
    },
    {
      "cell_type": "code",
      "source": [
        "#Write a Python program to print \"Hello, World!_\n",
        "print(\"hello world\")"
      ],
      "metadata": {
        "colab": {
          "base_uri": "https://localhost:8080/"
        },
        "id": "6Cdvl5L1zfHv",
        "outputId": "43d92d0b-7c38-4844-cc43-85cb3100b078"
      },
      "execution_count": 1,
      "outputs": [
        {
          "output_type": "stream",
          "name": "stdout",
          "text": [
            "hello world\n"
          ]
        }
      ]
    },
    {
      "cell_type": "code",
      "execution_count": 2,
      "metadata": {
        "colab": {
          "base_uri": "https://localhost:8080/"
        },
        "id": "W1-VyO6ccM0i",
        "outputId": "d2654709-064b-404e-c0ff-fd9a9771a0e6"
      },
      "outputs": [
        {
          "output_type": "stream",
          "name": "stdout",
          "text": [
            "my name is(name) and I am(age) years old \n"
          ]
        }
      ],
      "source": [
        "#Write a Python program that displays your name and age\n",
        "name= \"Sumit Shankhwar\"\n",
        "age= 20\n",
        "print (f\"my name is(name) and I am(age) years old \")\n"
      ]
    },
    {
      "cell_type": "code",
      "source": [
        "#Write code to print all the pre-defined keywords in Python using the keyword library\n",
        "help(\"keywords\")"
      ],
      "metadata": {
        "colab": {
          "base_uri": "https://localhost:8080/"
        },
        "id": "q_iMzAyR083H",
        "outputId": "04ee08ef-c4de-4e38-e495-30a1b9982802"
      },
      "execution_count": 3,
      "outputs": [
        {
          "output_type": "stream",
          "name": "stdout",
          "text": [
            "\n",
            "Here is a list of the Python keywords.  Enter any keyword to get more help.\n",
            "\n",
            "False               class               from                or\n",
            "None                continue            global              pass\n",
            "True                def                 if                  raise\n",
            "and                 del                 import              return\n",
            "as                  elif                in                  try\n",
            "assert              else                is                  while\n",
            "async               except              lambda              with\n",
            "await               finally             nonlocal            yield\n",
            "break               for                 not                 \n",
            "\n"
          ]
        }
      ]
    },
    {
      "cell_type": "code",
      "source": [
        "#0 Write a program that checks if a given word is a Python keyword.\n",
        "word = input(\"enter a word: \")\n",
        "if keyword.iskeyword(word):\n",
        "  print(\"word is a Python keyword.\")\n",
        "else:\n",
        "  print(\"word is not a Python keyword.\")\n"
      ],
      "metadata": {
        "colab": {
          "base_uri": "https://localhost:8080/",
          "height": 373
        },
        "id": "o-FuMtS91cxI",
        "outputId": "82601a34-def9-4879-91e0-1d0aa62c3ca3"
      },
      "execution_count": 9,
      "outputs": [
        {
          "output_type": "error",
          "ename": "KeyboardInterrupt",
          "evalue": "Interrupted by user",
          "traceback": [
            "\u001b[0;31m---------------------------------------------------------------------------\u001b[0m",
            "\u001b[0;31mKeyboardInterrupt\u001b[0m                         Traceback (most recent call last)",
            "\u001b[0;32m<ipython-input-9-0306f5007176>\u001b[0m in \u001b[0;36m<cell line: 2>\u001b[0;34m()\u001b[0m\n\u001b[1;32m      1\u001b[0m \u001b[0;31m#0 Write a program that checks if a given word is a Python keyword.\u001b[0m\u001b[0;34m\u001b[0m\u001b[0;34m\u001b[0m\u001b[0m\n\u001b[0;32m----> 2\u001b[0;31m \u001b[0mword\u001b[0m \u001b[0;34m=\u001b[0m \u001b[0minput\u001b[0m\u001b[0;34m(\u001b[0m\u001b[0;34m\"enter a word: \"\u001b[0m\u001b[0;34m)\u001b[0m\u001b[0;34m\u001b[0m\u001b[0;34m\u001b[0m\u001b[0m\n\u001b[0m\u001b[1;32m      3\u001b[0m \u001b[0;32mif\u001b[0m \u001b[0mkeyword\u001b[0m\u001b[0;34m.\u001b[0m\u001b[0miskeyword\u001b[0m\u001b[0;34m(\u001b[0m\u001b[0mword\u001b[0m\u001b[0;34m)\u001b[0m\u001b[0;34m:\u001b[0m\u001b[0;34m\u001b[0m\u001b[0;34m\u001b[0m\u001b[0m\n\u001b[1;32m      4\u001b[0m   \u001b[0mprint\u001b[0m\u001b[0;34m(\u001b[0m\u001b[0;34m\"word is a Python keyword.\"\u001b[0m\u001b[0;34m)\u001b[0m\u001b[0;34m\u001b[0m\u001b[0;34m\u001b[0m\u001b[0m\n\u001b[1;32m      5\u001b[0m \u001b[0;32melse\u001b[0m\u001b[0;34m:\u001b[0m\u001b[0;34m\u001b[0m\u001b[0;34m\u001b[0m\u001b[0m\n",
            "\u001b[0;32m/usr/local/lib/python3.10/dist-packages/ipykernel/kernelbase.py\u001b[0m in \u001b[0;36mraw_input\u001b[0;34m(self, prompt)\u001b[0m\n\u001b[1;32m    849\u001b[0m                 \u001b[0;34m\"raw_input was called, but this frontend does not support input requests.\"\u001b[0m\u001b[0;34m\u001b[0m\u001b[0;34m\u001b[0m\u001b[0m\n\u001b[1;32m    850\u001b[0m             )\n\u001b[0;32m--> 851\u001b[0;31m         return self._input_request(str(prompt),\n\u001b[0m\u001b[1;32m    852\u001b[0m             \u001b[0mself\u001b[0m\u001b[0;34m.\u001b[0m\u001b[0m_parent_ident\u001b[0m\u001b[0;34m,\u001b[0m\u001b[0;34m\u001b[0m\u001b[0;34m\u001b[0m\u001b[0m\n\u001b[1;32m    853\u001b[0m             \u001b[0mself\u001b[0m\u001b[0;34m.\u001b[0m\u001b[0m_parent_header\u001b[0m\u001b[0;34m,\u001b[0m\u001b[0;34m\u001b[0m\u001b[0;34m\u001b[0m\u001b[0m\n",
            "\u001b[0;32m/usr/local/lib/python3.10/dist-packages/ipykernel/kernelbase.py\u001b[0m in \u001b[0;36m_input_request\u001b[0;34m(self, prompt, ident, parent, password)\u001b[0m\n\u001b[1;32m    893\u001b[0m             \u001b[0;32mexcept\u001b[0m \u001b[0mKeyboardInterrupt\u001b[0m\u001b[0;34m:\u001b[0m\u001b[0;34m\u001b[0m\u001b[0;34m\u001b[0m\u001b[0m\n\u001b[1;32m    894\u001b[0m                 \u001b[0;31m# re-raise KeyboardInterrupt, to truncate traceback\u001b[0m\u001b[0;34m\u001b[0m\u001b[0;34m\u001b[0m\u001b[0m\n\u001b[0;32m--> 895\u001b[0;31m                 \u001b[0;32mraise\u001b[0m \u001b[0mKeyboardInterrupt\u001b[0m\u001b[0;34m(\u001b[0m\u001b[0;34m\"Interrupted by user\"\u001b[0m\u001b[0;34m)\u001b[0m \u001b[0;32mfrom\u001b[0m \u001b[0;32mNone\u001b[0m\u001b[0;34m\u001b[0m\u001b[0;34m\u001b[0m\u001b[0m\n\u001b[0m\u001b[1;32m    896\u001b[0m             \u001b[0;32mexcept\u001b[0m \u001b[0mException\u001b[0m \u001b[0;32mas\u001b[0m \u001b[0me\u001b[0m\u001b[0;34m:\u001b[0m\u001b[0;34m\u001b[0m\u001b[0;34m\u001b[0m\u001b[0m\n\u001b[1;32m    897\u001b[0m                 \u001b[0mself\u001b[0m\u001b[0;34m.\u001b[0m\u001b[0mlog\u001b[0m\u001b[0;34m.\u001b[0m\u001b[0mwarning\u001b[0m\u001b[0;34m(\u001b[0m\u001b[0;34m\"Invalid Message:\"\u001b[0m\u001b[0;34m,\u001b[0m \u001b[0mexc_info\u001b[0m\u001b[0;34m=\u001b[0m\u001b[0;32mTrue\u001b[0m\u001b[0;34m)\u001b[0m\u001b[0;34m\u001b[0m\u001b[0;34m\u001b[0m\u001b[0m\n",
            "\u001b[0;31mKeyboardInterrupt\u001b[0m: Interrupted by user"
          ]
        }
      ]
    },
    {
      "cell_type": "code",
      "source": [
        "#Create a list and tuple in Python, and demonstrate how attempting to change an element works differently for each.\n",
        "my_list=[1,2,3]\n",
        "my_tuple=(1,2,3)\n",
        "my_list[0]=10\n",
        "print(my_list)\n",
        "print(my_tuple)\n",
        "\n",
        ""
      ],
      "metadata": {
        "colab": {
          "base_uri": "https://localhost:8080/"
        },
        "id": "DxHsXumx6QMP",
        "outputId": "a311b2b4-a1f0-4482-c359-1c2e70dff2e1"
      },
      "execution_count": 13,
      "outputs": [
        {
          "output_type": "stream",
          "name": "stdout",
          "text": [
            "[10, 2, 3]\n",
            "(1, 2, 3)\n"
          ]
        }
      ]
    },
    {
      "cell_type": "code",
      "source": [
        "# Write a function to demonstrate the behavior of mutable and immutable arguments.\n",
        "def change_list(my_list):\n",
        "  my_list.append(4)\n",
        "  print(\"inside function:\",my_list)\n",
        "def change_string(my_string):\n",
        "  my_string += \"world\"\n",
        "  print(\"insidefunction:\",my_string)\n",
        "my_list=[1,2,3]\n",
        "change_list(my_list)\n",
        "print(\"outside function:\",my_list)\n",
        "my_string=\"hello\"\n",
        "change_string(my_string)\n",
        "print(\"outside function:\",my_string)"
      ],
      "metadata": {
        "colab": {
          "base_uri": "https://localhost:8080/"
        },
        "id": "KbI90Ck14_H-",
        "outputId": "845d7888-9cd1-4508-b9d8-4873b9706cb3"
      },
      "execution_count": 14,
      "outputs": [
        {
          "output_type": "stream",
          "name": "stdout",
          "text": [
            "inside function: [1, 2, 3, 4]\n",
            "outside function: [1, 2, 3, 4]\n",
            "insidefunction: helloworld\n",
            "outside function: hello\n"
          ]
        }
      ]
    },
    {
      "cell_type": "code",
      "source": [
        "#Write a function to demonstrate the behavior of mutable and immutable arguments.\n",
        "# question 6 and 7 is same.\n",
        "def change_list(my_list):\n",
        "  my_list.append(4)\n",
        "  print(\"inside function:\",my_list)\n",
        "def change_string(my_string):\n",
        "  my_string += \"world\"\n",
        "  print(\"insidefunction:\",my_string)\n",
        "my_list=[1,2,3]\n",
        "change_list(my_list)\n",
        "print(\"outside function:\",my_list)\n",
        "my_string=\"hello\"\n",
        "change_string(my_string)\n",
        "print(\"outside function:\",my_string)"
      ],
      "metadata": {
        "colab": {
          "base_uri": "https://localhost:8080/"
        },
        "id": "sfXwGn5fA0ob",
        "outputId": "7637e85e-8e6e-4c0d-fba1-0a8682979fc5"
      },
      "execution_count": 15,
      "outputs": [
        {
          "output_type": "stream",
          "name": "stdout",
          "text": [
            "inside function: [1, 2, 3, 4]\n",
            "outside function: [1, 2, 3, 4]\n",
            "insidefunction: helloworld\n",
            "outside function: hello\n"
          ]
        }
      ]
    },
    {
      "cell_type": "code",
      "source": [
        "#Write a program to demonstrate the use of logical operators.\n",
        "a= True\n",
        "b= False\n",
        "print(a and b)\n",
        "print(a or b)\n",
        "print(not a)"
      ],
      "metadata": {
        "colab": {
          "base_uri": "https://localhost:8080/"
        },
        "id": "D8PLr4-5BUqn",
        "outputId": "c91384c9-6a39-45a3-a6ed-62792f1a231e"
      },
      "execution_count": 16,
      "outputs": [
        {
          "output_type": "stream",
          "name": "stdout",
          "text": [
            "False\n",
            "True\n",
            "False\n"
          ]
        }
      ]
    },
    {
      "cell_type": "code",
      "source": [
        "# Write a Python program to convert user input from string to integer, float, and boolean types.\n",
        "user_input = input(\"enter a value\")\n",
        "print(int(user_input))\n",
        "print(float(user_input))\n",
        "print(bool(user_input))\n"
      ],
      "metadata": {
        "colab": {
          "base_uri": "https://localhost:8080/"
        },
        "id": "zrVXTzmiByyq",
        "outputId": "450d2879-d37f-46c8-c74d-432ea8352ffa"
      },
      "execution_count": 19,
      "outputs": [
        {
          "output_type": "stream",
          "name": "stdout",
          "text": [
            "enter a value5\n",
            "5\n",
            "5.0\n",
            "True\n"
          ]
        }
      ]
    },
    {
      "cell_type": "code",
      "source": [
        "# Write code to demonstrate type casting with list elements.\n",
        "user_list = [1,2,3,\"4\",\"5\"]\n",
        "print([int(i)for i in my_list])\n",
        "print([str(i)for i in my_list])\n",
        "print([float(i)for i in my_list])"
      ],
      "metadata": {
        "colab": {
          "base_uri": "https://localhost:8080/"
        },
        "id": "HxLf1S4oCwnK",
        "outputId": "5d9afcd8-0ac2-4b67-d1a7-03d2849763a9"
      },
      "execution_count": 20,
      "outputs": [
        {
          "output_type": "stream",
          "name": "stdout",
          "text": [
            "[1, 2, 3, 4]\n",
            "['1', '2', '3', '4']\n",
            "[1.0, 2.0, 3.0, 4.0]\n"
          ]
        }
      ]
    },
    {
      "cell_type": "code",
      "source": [
        "#Write a program that checks if a number is positive, negative, or zero.\n",
        "num= int(input(\"enter a number:\"))\n",
        "if num > 0:\n",
        "  print(\"positive\")\n",
        "elif num < 0:\n",
        "  print(\"negative\")\n",
        "else:\n",
        "  print(\"zero\")"
      ],
      "metadata": {
        "colab": {
          "base_uri": "https://localhost:8080/"
        },
        "id": "CNEFxbTEE7Xx",
        "outputId": "3cc1744f-c15c-4614-c30f-d6fe8602aa60"
      },
      "execution_count": 21,
      "outputs": [
        {
          "output_type": "stream",
          "name": "stdout",
          "text": [
            "enter a number:8\n",
            "positive\n"
          ]
        }
      ]
    },
    {
      "cell_type": "code",
      "source": [
        "# Write a for loop to print numbers from 1 to 10.\n",
        "for i in range(1,10):\n",
        "  print(i)"
      ],
      "metadata": {
        "colab": {
          "base_uri": "https://localhost:8080/"
        },
        "id": "VXvxif-NF4FH",
        "outputId": "680c5333-f7fc-4e4e-962a-aa63519caa1d"
      },
      "execution_count": 22,
      "outputs": [
        {
          "output_type": "stream",
          "name": "stdout",
          "text": [
            "1\n",
            "2\n",
            "3\n",
            "4\n",
            "5\n",
            "6\n",
            "7\n",
            "8\n",
            "9\n"
          ]
        }
      ]
    },
    {
      "cell_type": "code",
      "source": [
        "# Write a Python program to find the sum of all even numbers between 1 and 50.\n",
        "sum_even = sum(i for i in range(1,50)if i % 2 == 0)\n",
        "print(sum_even)\n"
      ],
      "metadata": {
        "colab": {
          "base_uri": "https://localhost:8080/"
        },
        "id": "Fr2R9FbyG9G_",
        "outputId": "c9ba07d0-5f81-4014-bccc-3e91fd5afea7"
      },
      "execution_count": 23,
      "outputs": [
        {
          "output_type": "stream",
          "name": "stdout",
          "text": [
            "600\n"
          ]
        }
      ]
    },
    {
      "cell_type": "code",
      "source": [
        "# Write a program to reverse a string using a while loop.\n",
        "my_string= \"hello\"\n",
        "reversed_string= \"\"\n",
        "i= len(my_string)- 1\n",
        "while i >= 0:\n",
        "  reversed_string += my_string[i]\n",
        "  i -= 1\n",
        "  print(reversed_string)\n"
      ],
      "metadata": {
        "colab": {
          "base_uri": "https://localhost:8080/"
        },
        "id": "1m4XrApYHwQ-",
        "outputId": "44b497e3-b085-45b3-83d4-812bfe66d3aa"
      },
      "execution_count": 28,
      "outputs": [
        {
          "output_type": "stream",
          "name": "stdout",
          "text": [
            "o\n",
            "ol\n",
            "oll\n",
            "olle\n",
            "olleh\n"
          ]
        }
      ]
    },
    {
      "cell_type": "code",
      "source": [
        "#Write a Python program to calculate the factorial of a number provided by the user using a while loop.\n",
        "num = int(input(\"enter a number\"))\n",
        "factorial = 1\n",
        "i = 1\n",
        "while i <= num:\n",
        "  factorial *= i\n",
        "  i += 1\n",
        "  print(factorial)"
      ],
      "metadata": {
        "colab": {
          "base_uri": "https://localhost:8080/"
        },
        "id": "fNBF2FMZJHDK",
        "outputId": "58aea9fd-d51a-4dd2-e242-540ecc2537bd"
      },
      "execution_count": 29,
      "outputs": [
        {
          "output_type": "stream",
          "name": "stdout",
          "text": [
            "enter a number6\n",
            "1\n",
            "2\n",
            "6\n",
            "24\n",
            "120\n",
            "720\n"
          ]
        }
      ]
    },
    {
      "cell_type": "code",
      "source": [],
      "metadata": {
        "id": "-HOwpIBsKfnm"
      },
      "execution_count": null,
      "outputs": []
    }
  ]
}